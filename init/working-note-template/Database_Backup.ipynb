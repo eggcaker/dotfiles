{
 "cells": [
  {
   "cell_type": "code",
   "execution_count": 67,
   "metadata": {},
   "outputs": [],
   "source": [
    "%matplotlib inline\n",
    "\n",
    "import numpy as np\n",
    "import pandas as pd\n",
    "from scipy import stats, integrate\n",
    "import matplotlib.pyplot as plt\n",
    "import seaborn as sns\n",
    "sns.set(color_codes=True)\n",
    "import pandas as pd\n",
    "import json\n",
    "from pandas.io.json import json_normalize\n"
   ]
  },
  {
   "cell_type": "code",
   "execution_count": 78,
   "metadata": {},
   "outputs": [],
   "source": [
    "alldata = pd.read_json('./data/MDData.db.json')\n",
    "dt = pd.DataFrame(alldata['MDData.db']['dailyActivityLog'], columns = ['Id','steps', 'calories', 'recordedForDate'])\n",
    "mt = pd.DataFrame( alldata['MDData.db']['minutelyActivityLog'], columns = ['Id', 'steps', 'calories', 'recordedForDate'])\n",
    "dt['Id'] = dt['Id'].astype('int64')\n",
    "dt['steps'] = dt['steps'].astype('int64')\n",
    "dt['recordedForDate'] = dt['recordedForDate'].astype('int32')\n",
    "dt['recordedForDateHR'] = pd.to_datetime(dt['recordedForDate'], unit='s')\n",
    "dt = dt.sort_values(['Id'], ascending=[False])\n",
    "\n",
    "mt['Id'] = mt['Id'].astype('int64')\n",
    "mt['steps'] = mt['steps'].astype('int64')\n",
    "mt['recordedForDate'] = mt['recordedForDate'].astype('int32')\n",
    "mt['recordedForDateHR'] = pd.to_datetime(mt['recordedForDate'], unit='s')\n",
    "mt = mt.sort_values(['Id'], ascending=[False])"
   ]
  },
  {
   "cell_type": "code",
   "execution_count": 75,
   "metadata": {},
   "outputs": [
    {
     "data": {
      "text/plain": [
       "      Id  steps   calories  recordedForDate   recordedForDateHR\n",
       "368  369      1        0.0       1520485200 2018-03-08 05:00:00\n",
       "367  368   2543  1316.0043       1520429789 2018-03-07 13:36:29\n",
       "366  367   4046  110.42745       1520398800 2018-03-07 05:00:00\n",
       "365  366   2705  112.65048       1520388126 2018-03-07 02:02:06\n",
       "364  365    984  1678.5878       1520344406 2018-03-06 13:53:26\n",
       "363  364     12  3.4724085       1520344166 2018-03-06 13:49:26\n",
       "362  363   6357  175.56093       1520312400 2018-03-06 05:00:00\n",
       "361  362   3382  2346.4849       1520269614 2018-03-05 17:06:54\n",
       "360  361    753   24.38462       1520226000 2018-03-05 05:00:00\n",
       "359  360   5023   855.7403       1520208655 2018-03-05 00:10:55\n",
       "..   ...    ...        ...              ...                 ...\n",
       "9     10   9681  274.14722       1496203200 2017-05-31 04:00:00\n",
       "8      9   8886  246.18927       1496116800 2017-05-30 04:00:00\n",
       "7      8      0      212.0       1496073960 2017-05-29 16:06:00\n",
       "6      7   3357  100.89579       1496030400 2017-05-29 04:00:00\n",
       "5      6   3427  98.609726       1495944000 2017-05-28 04:00:00\n",
       "4      5   6514  182.63763       1495857600 2017-05-27 04:00:00\n",
       "3      4  13239   354.5106       1495771200 2017-05-26 04:00:00\n",
       "2      3   6416  176.66693       1495684800 2017-05-25 04:00:00\n",
       "1      2      0      211.0       1495655040 2017-05-24 19:44:00\n",
       "0      1   3014    84.4933       1495598400 2017-05-24 04:00:00\n",
       "\n",
       "[369 rows x 5 columns]"
      ]
     },
     "execution_count": 75,
     "metadata": {},
     "output_type": "execute_result"
    }
   ],
   "source": [
    "dt"
   ]
  },
  {
   "cell_type": "code",
   "execution_count": null,
   "metadata": {
    "collapsed": true
   },
   "outputs": [],
   "source": []
  },
  {
   "cell_type": "code",
   "execution_count": null,
   "metadata": {
    "collapsed": true
   },
   "outputs": [],
   "source": []
  }
 ],
 "metadata": {
  "kernelspec": {
   "display_name": "Python 3",
   "language": "python",
   "name": "python3"
  },
  "language_info": {
   "codemirror_mode": {
    "name": "ipython",
    "version": 3
   },
   "file_extension": ".py",
   "mimetype": "text/x-python",
   "name": "python",
   "nbconvert_exporter": "python",
   "pygments_lexer": "ipython3",
   "version": "3.6.3"
  }
 },
 "nbformat": 4,
 "nbformat_minor": 2
}
